{
 "cells": [
  {
   "cell_type": "markdown",
   "id": "0dfdd0ad",
   "metadata": {},
   "source": [
    "## Q2 write a program to find local extrema using Direct Search (Golden section) method \n"
   ]
  },
  {
   "cell_type": "markdown",
   "id": "ca6545ec",
   "metadata": {},
   "source": [
    "#### Assumption is that, there is a atleast 1 extrema exists in the given interval"
   ]
  },
  {
   "cell_type": "code",
   "execution_count": 83,
   "id": "b62776cc",
   "metadata": {},
   "outputs": [],
   "source": [
    "def f(x):\n",
    "    \"\"\"\n",
    "    this is function which takes arbitarary x and returns f(x)\n",
    "    \"\"\"\n",
    "    return x**2"
   ]
  },
  {
   "cell_type": "code",
   "execution_count": 84,
   "id": "310585d9",
   "metadata": {},
   "outputs": [],
   "source": [
    "def GoldenSection(f,xr0,xl0,extrema):\n",
    "    \"\"\"_This function takes functions and two initial points as orguments to calculate the extrema of the function using the \n",
    "    Golden section method.\n",
    "    It also prints the intervals at every iteration \n",
    "    Assumption :\n",
    "    there should be at least one extrema in given interval_\n",
    "\n",
    "    Args:\n",
    "        f (_function or object_): _ given function to which we calculate the extremas ,The function should be Concave_\n",
    "        xr0 (_float_): _interval (upper bound for the function  )_\n",
    "        xl0 (_float_): _interval (lower bound for the function_\n",
    "        extrema (_str_): _if it is \"min\" the function will calculate the local minima ,\n",
    "        if it is \"max\" the function will calculate the local maximum _\n",
    "    \"\"\"\n",
    "    if(extrema==\"max\"):                      #condition to calculate for maxima\n",
    "        \n",
    "        xr=xr0\n",
    "        xl=xl0\n",
    "        x1=0\n",
    "        x2=0\n",
    "        i=0\n",
    "        flag=True\n",
    "\n",
    "        while (xr-xl > 0.000001 or -1*(xr-xl)>0.000001):\n",
    "            x1=xr-0.618*(xr-xl)                                #calculating the x1 and x2 for golden section using golden ratio\n",
    "            x2=xl+0.618*(xr-xl)                                        \n",
    "            print(f' iterations ={i} ,  Xr = {xr} ,   Xl = {xl} ,   f(xr) = {f(xr)} ,   f(xl) ={f(xl)} ') \n",
    "            if(f(x1) < f(x2)):                                                              #printing the iteration values\n",
    "                xl=x1\n",
    "                #print(f\"only XL changed\")\n",
    "            elif(f(x1) > f(x2)):\n",
    "                xr=x2\n",
    "                #print(\"only XR changed\")                          # executing the values of xr and xl accordingly\n",
    "            elif(f(x1) == f(x2)):\n",
    "                xr=x2\n",
    "                xl=x1\n",
    "                #print(\"both changed\")\n",
    "\n",
    "\n",
    "            i=i+1\n",
    "\n",
    "\n",
    "\n",
    "        print(f\" \\n\\n\\nThe extrema point is  = {xr}  And the function value f(x)={f(xr)}\\n\\n\\n\")        #printing final value\n",
    "        \n",
    "    elif(extrema==\"min\"):                      #condition to calculate for minima\n",
    "       \n",
    "        xr=xr0\n",
    "        xl=xl0\n",
    "        x1=0\n",
    "        x2=0\n",
    "        i=0\n",
    "        flag=True\n",
    "\n",
    "        while (xr-xl > 0.000001 or -1*(xr-xl)>0.000001):                              #checking for the condtion \n",
    "            x1=xr-0.618*(xr-xl)                            #calculating the x1 and x2 for golden section using golden ratio\n",
    "            x2=xl+0.618*(xr-xl)                                 \n",
    "            print(f' IT NO={i} , Xr = {xr} ,Xl = {xl} , f(xr) = {f(xr)} ,  f(xl) ={f(xl)} ')\n",
    "            if(f(x1) < f(x2)):\n",
    "\n",
    "                xr=x2\n",
    "                #print(f\"only XL changed\")\n",
    "            elif(f(x1) > f(x2)):\n",
    "                xl=x1                                #changing the values accordingly to move towards the local extrema\n",
    "                #print(\"only XR changed\")\n",
    "            elif(f(x1) == f(x2)):\n",
    "                xr=x2\n",
    "                xl=x1\n",
    "                #print(\"both changed\")\n",
    "\n",
    "\n",
    "            i=i+1\n",
    "\n",
    "\n",
    "\n",
    "        print(f\" \\n\\n\\nThe extrema point is  = {xr}  And the function value f(x)={f(xr)}\\n\\n\\n\")     #printing the final values\n"
   ]
  },
  {
   "cell_type": "code",
   "execution_count": 85,
   "id": "c83c3396",
   "metadata": {
    "scrolled": false
   },
   "outputs": [
    {
     "name": "stdout",
     "output_type": "stream",
     "text": [
      "enter the initial point X0 : 10\n",
      "enter the initial point X1: -10\n",
      "enter wheather u wanted minimum or maximum using using min ad maxmin\n",
      " IT NO=0 , Xr = 10.0 ,Xl = -10.0 , f(xr) = 100.0 ,  f(xl) =100.0 \n",
      " IT NO=1 , Xr = 2.3599999999999994 ,Xl = -2.3599999999999994 , f(xr) = 5.569599999999998 ,  f(xl) =5.569599999999998 \n",
      " IT NO=2 , Xr = 0.5569599999999997 ,Xl = -0.5569599999999997 , f(xr) = 0.31020444159999966 ,  f(xl) =0.31020444159999966 \n",
      " IT NO=3 , Xr = 0.13144255999999988 ,Xl = -0.13144255999999988 , f(xr) = 0.01727714657935357 ,  f(xl) =0.01727714657935357 \n",
      " IT NO=4 , Xr = 0.031020444159999966 ,Xl = -0.031020444159999966 , f(xr) = 0.000962267955883676 ,  f(xl) =0.000962267955883676 \n",
      " IT NO=5 , Xr = 0.00732082482175999 ,Xl = -0.00732082482175999 , f(xr) = 5.359447607089719e-05 ,  f(xl) =5.359447607089719e-05 \n",
      " IT NO=6 , Xr = 0.0017277146579353572 ,Xl = -0.0017277146579353572 , f(xr) = 2.9849979392446884e-06 ,  f(xl) =2.9849979392446884e-06 \n",
      " IT NO=7 , Xr = 0.0004077406592727442 ,Xl = -0.0004077406592727442 , f(xr) = 1.6625244522417209e-07 ,  f(xl) =1.6625244522417209e-07 \n",
      " IT NO=8 , Xr = 9.622679558836768e-05 ,Xl = -9.622679558836768e-05 , f(xr) = 9.259596189205498e-09 ,  f(xl) =9.259596189205498e-09 \n",
      " IT NO=9 , Xr = 2.270952375885477e-05 ,Xl = -2.270952375885477e-05 , f(xr) = 5.157224693539893e-10 ,  f(xl) =5.157224693539893e-10 \n",
      " IT NO=10 , Xr = 5.3594476070897265e-06 ,Xl = -5.3594476070897265e-06 , f(xr) = 2.8723678653139795e-11 ,  f(xl) =2.8723678653139795e-11 \n",
      " IT NO=11 , Xr = 1.264829635273175e-06 ,Xl = -1.264829635273175e-06 , f(xr) = 1.599794006265273e-12 ,  f(xl) =1.599794006265273e-12 \n",
      " \n",
      "\n",
      "\n",
      "The extrema point is  = 2.984997939244693e-07  And the function value f(x)=8.910212697295064e-14\n",
      "\n",
      "\n",
      "\n"
     ]
    }
   ],
   "source": [
    "\n",
    "X0=float(input(\"enter the initial point X0 : \"))\n",
    "X1=float(input(\"enter the initial point X1: \"))                                         #getting the required input values\n",
    "extrema=input(\"enter wheather u wanted minimum or maximum using using min ad max\")\n",
    "GoldenSection(f,X0,X1,extrema)"
   ]
  },
  {
   "cell_type": "markdown",
   "id": "074fd874",
   "metadata": {},
   "source": [
    "## Q3 write a program to minimize a function using gradient descent "
   ]
  },
  {
   "cell_type": "markdown",
   "id": "8a72bbdd",
   "metadata": {},
   "source": [
    "#### Assumption is that, there is a atleast 1 local minima or maxima exists in the given interval"
   ]
  },
  {
   "cell_type": "code",
   "execution_count": 77,
   "id": "b7c72625",
   "metadata": {},
   "outputs": [],
   "source": [
    "from sympy import *\n",
    "import numpy as np"
   ]
  },
  {
   "cell_type": "code",
   "execution_count": 78,
   "id": "eaf30f58",
   "metadata": {},
   "outputs": [],
   "source": [
    "def f(x):\n",
    "    return ((x+5)**2+2*x**4+99)\n"
   ]
  },
  {
   "cell_type": "code",
   "execution_count": 76,
   "id": "4e4eb59a",
   "metadata": {},
   "outputs": [],
   "source": [
    "def Grad_desc_asc(f,p1,count,extrema):\n",
    "    \"\"\"_this function takes four orguments according to extrema value it proceeds to calculate either minima\n",
    "    or maxima of a given function within the iteration limit_\n",
    "\n",
    "    Args:\n",
    "        f (_function of object_): _function as f ,to which we want to calculate the maxima or minima_\n",
    "        p1 (_float_): _initial point for proceding to calculation ,X0_\n",
    "        count (_int_): _limit for no of itrations _\n",
    "        extrema (_str_): _if it is \"min\" the function will calculate the local minima ,\n",
    "        if it is \"max\" the function will calculate the local maximum _\n",
    "    \"\"\"\n",
    "    if(extrema =='min'):                #checking for local minima case\n",
    "        x=Symbol('x')\n",
    "        x1=0\n",
    "        p=p1\n",
    "        i=0\n",
    "        E=0\n",
    "        cnt=0\n",
    "        while((diff(f(x),x).evalf(subs={x:p}))>0.01 or -1*(diff(f(x),x).evalf(subs={x:p}))>0.01 ):     #checking for df(x)/dx =0\n",
    "       \n",
    "            if(cnt>count):                  #checking for the iteration limit\n",
    "                break                 \n",
    "            if((diff(f(x),x).evalf(subs={x:p}))>50 or -1*(diff(f(x),x).evalf(subs={x:p}))>50):     #adjusting the learning rate\n",
    "                E=1/((diff(f(x),x).evalf(subs={x:p}))-10)\n",
    "            else: #if((diff(f(x),x).evalf(subs={x:p}))<=50):\n",
    "                E=0.01\n",
    "            x1=p - E*(diff(f(x),x).evalf(subs={x:p}))                       \n",
    "    #         f1 = f.diff(x)\n",
    "            print(f\"the iteration no {i}    x= {p}      f(x)= {f(p)}    f'(x)= {(diff(f(x),x).evalf(subs={x:p}))} \") \n",
    "            i=i+1       \n",
    "            p=x1\n",
    "            cnt=cnt+1\n",
    "        print(\"the local minimum of the given function : \",p)\n",
    "    if(extrema=='max'):                                              #checking for local maxima case\n",
    "        x=Symbol('x')\n",
    "        x1=0\n",
    "        p=p1\n",
    "        i=0\n",
    "        E=0\n",
    "        cnt=0\n",
    "        while((diff(f(x),x).evalf(subs={x:p}))>0.01 or -1*(diff(f(x),x).evalf(subs={x:p}))>0.01 ):   #checking for df(x)/dx =0\n",
    "\n",
    "            if(cnt>count):      #checking for the iteration count limit               \n",
    "                break\n",
    "            if((diff(f(x),x).evalf(subs={x:p}))>50 ): \n",
    "                E=1/((diff(f(x),x).evalf(subs={x:p}))-10)                #adjusting the learnign rate\n",
    "            if(-1*(diff(f(x),x).evalf(subs={x:p}))>50):\n",
    "                 E=-1/((diff(f(x),x).evalf(subs={x:p}))-10)\n",
    "            else: #if((diff(f(x),x).evalf(subs={x:p}))<=50):\n",
    "                E=0.01\n",
    "            x1=p + E*(diff(f(x),x).evalf(subs={x:p}))\n",
    "    #         f1 = f.diff(x)\n",
    "            print(f\"the iteration no {i}    x= {p}      f(x)= {f(p)}    f'(x)= {(diff(f(x),x).evalf(subs={x:p}))} \") \n",
    "            i=i+1\n",
    "            p=x1\n",
    "            cnt=cnt+1\n",
    "        print(\"the local maximum of the given function : \",p)            #printing the extrema value"
   ]
  },
  {
   "cell_type": "code",
   "execution_count": 81,
   "id": "bae8cd82",
   "metadata": {},
   "outputs": [
    {
     "name": "stdout",
     "output_type": "stream",
     "text": [
      "enter the initial point for gradient descent method : 10\n",
      "enter the no of iterations you want to iterate :-10\n",
      "enter min for minimum and max for maximum  :min\n",
      "the local minimum of the given function :  10.0\n"
     ]
    }
   ],
   "source": [
    "\n",
    "i=float(input(\"enter the initial point for gradient descent method : \"))\n",
    "count=int(input(\"enter the no of iterations you want to iterate :\"))\n",
    "extrema=input(\"enter min for minimum and max for maximum  :\")\n",
    "Grad_desc_asc(f,i,count,extrema)             "
   ]
  },
  {
   "cell_type": "markdown",
   "id": "59d3a388",
   "metadata": {},
   "source": [
    "## Q1 write a program to find local extrema for the function using Newton Rapson"
   ]
  },
  {
   "cell_type": "markdown",
   "id": "58b97687",
   "metadata": {},
   "source": [
    "$f(x)=x1^3 + x2^3 -3x1x2$"
   ]
  },
  {
   "cell_type": "code",
   "execution_count": 63,
   "id": "c987f36e",
   "metadata": {},
   "outputs": [],
   "source": [
    "from sympy import *\n",
    "import numpy as np\n",
    "\n",
    "def f(X):\n",
    "    \"\"\"\n",
    "    this is function which takes arbitarary X and returns f(X),here X means a tuple or ordered pair\n",
    "    \"\"\"\n",
    "    return ((X[0])**3+(X[1])**3-3*X[0]*X[1])\n",
    "\n",
    "\n",
    "def GradG(X):                   #calculating the required functions \n",
    "    \"\"\"\n",
    "    this is function which takes arbitarary X and returns Grad of  f(X) in a numpy array\n",
    "    \"\"\"\n",
    "    V=np.array([   3 * X[0]**2 - 3 * X[1] ,  3 * X[1]**2 - 3 * X[0]   ])\n",
    "    return V\n",
    "\n",
    "def jacobian(X):\n",
    "    \"\"\"\n",
    "    this is function which takes arbitarary X and returns Jacobian of  f(X) in a numpy array\n",
    "    \"\"\"\n",
    "    \n",
    "    J=np.array([[6*X[0] , -3],[-3, 6*X[1]]])\n",
    "    return J"
   ]
  },
  {
   "cell_type": "code",
   "execution_count": 64,
   "id": "6e41a04a",
   "metadata": {},
   "outputs": [],
   "source": [
    "def Newton_Rapson(f,a,b):\n",
    "    \"\"\"_This function takes the 3 orguments 1.function to which we wanted to find the extrema point\n",
    "    2 & 3 are the initial co ordinates for the tuple (ordered pair) \n",
    "    after taking all this ,the function will calculate gradient of f and jacobian of and proceeds to calculate the \n",
    "    local extrema of the f using the Newton Rapson method .\n",
    "    By iteratively it calculates  x1,x2,......xn until xi and xi+1 are equal_\n",
    "\n",
    "    Args:\n",
    "        f (_function of object_): _function as f ,to which we want to calculate the maxima or minima_\n",
    "        a (_float_): _co ordinate value of x1 in multivariable function_\n",
    "        b (_float_): _co ordinate value of x2 in multivariable function_\n",
    "    \"\"\"\n",
    "    #let initial point be [5,5]\n",
    "    X0=np.array([a,b])\n",
    "\n",
    "    # x0=np.transpose(X0)\n",
    "    # X1=X0-jacobian(X0)*np.transpose(GradG(X0))\n",
    "    X1= np.dot(jacobian(X0), GradG(X0), out=None)            \n",
    " \n",
    "    # print(X0)\n",
    "    # print(X0-X1)\n",
    "    i=1\n",
    "    p=np.array([0.0,0.0])\n",
    "    flag=True\n",
    "    while ((np.array_equal(p, X0))!=True and i<100):                  #checking for the iteration limit and equality condtion\n",
    "\n",
    "        p=X0\n",
    "        X1= X0-np.transpose((np.dot(np.linalg.inv(jacobian(X0)),np.transpose( GradG(X0)), out=None) ))       \n",
    "#         print(jacobian(X0))                                              #calculating the xi value using xi-1\n",
    "#         print(GradG(X0))\n",
    "        X1=X1.flatten()\n",
    "        print(f\"{i}th itration and X{i} =\",X1)         \n",
    "        X0=X1\n",
    "    #     print(X0)\n",
    "        i=i+1\n",
    "\n",
    "\n",
    "    # print(np.dot(jacobian(X0), GradG(X0), out=None))\n",
    "    # print(X1)\n",
    "    # print(X0-np.dot(jacobian(X0), GradG(X0), out=None))\n",
    "    # print(X0)"
   ]
  },
  {
   "cell_type": "code",
   "execution_count": 80,
   "id": "b141f88a",
   "metadata": {},
   "outputs": [
    {
     "name": "stdout",
     "output_type": "stream",
     "text": [
      "1th itration and X1 = [2502.81251405 5004.6250281 ]\n",
      "2th itration and X2 = [1251.90618212 2502.43758897]\n",
      "3th itration and X3 = [ 626.45286652 1251.34396302]\n",
      "4th itration and X4 = [313.72591005 625.79733709]\n",
      "5th itration and X5 = [157.36183699 313.02439762]\n",
      "6th itration and X6 = [ 79.17862072 156.63867237]\n",
      "7th itration and X7 = [40.08469212 78.44728892]\n",
      "8th itration and X8 = [20.53323816 39.35451729]\n",
      "9th itration and X9 = [10.74910085 19.81382621]\n",
      "10th itration and X10 = [ 5.84223332 10.0543413 ]\n",
      "11th itration and X11 = [3.36568512 5.19454537]\n",
      "12th itration and X12 = [2.09869884 2.79928255]\n",
      "13th itration and X13 = [1.44426353 1.65761158]\n",
      "14th itration and X14 = [1.12672163 1.16866877]\n",
      "15th itration and X15 = [1.01546335 1.0187874 ]\n",
      "16th itration and X16 = [1.00026773 1.00030463]\n",
      "17th itration and X17 = [1.00000008 1.00000009]\n",
      "18th itration and X18 = [1. 1.]\n",
      "19th itration and X19 = [1. 1.]\n",
      "20th itration and X20 = [1. 1.]\n"
     ]
    }
   ],
   "source": [
    "Newton_Rapson(f,1,10009)        #calling the function"
   ]
  }
 ],
 "metadata": {
  "kernelspec": {
   "display_name": "Python 3 (ipykernel)",
   "language": "python",
   "name": "python3"
  },
  "language_info": {
   "codemirror_mode": {
    "name": "ipython",
    "version": 3
   },
   "file_extension": ".py",
   "mimetype": "text/x-python",
   "name": "python",
   "nbconvert_exporter": "python",
   "pygments_lexer": "ipython3",
   "version": "3.9.13"
  }
 },
 "nbformat": 4,
 "nbformat_minor": 5
}
